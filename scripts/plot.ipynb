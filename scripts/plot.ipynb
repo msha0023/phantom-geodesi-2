{
 "cells": [
  {
   "cell_type": "code",
   "execution_count": 13,
   "metadata": {
    "collapsed": false
   },
   "outputs": [
    {
     "name": "stdout",
     "output_type": "stream",
     "text": [
      "Using matplotlib backend: MacOSX\n"
     ]
    },
    {
     "name": "stderr",
     "output_type": "stream",
     "text": [
      "/Users/david/anaconda/lib/python3.5/site-packages/matplotlib/tight_layout.py:222: UserWarning: tight_layout : falling back to Agg renderer\n",
      "  warnings.warn(\"tight_layout : falling back to Agg renderer\")\n"
     ]
    }
   ],
   "source": [
    "# PLOT ORBITS - for a single particle\n",
    "\n",
    "import matplotlib as mpl\n",
    "from mpl_toolkits.mplot3d import Axes3D\n",
    "import matplotlib.pyplot as plt\n",
    "import numpy as np\n",
    "%matplotlib\n",
    "\n",
    "plt.close('all')\n",
    "\n",
    "xyz = np.loadtxt('positions.dat',skiprows=2)\n",
    "n = int(np.genfromtxt('positions.dat',max_rows=1))\n",
    "\n",
    "particles_to_plot = range(n)\n",
    "\n",
    "x=xyz[:,1:n+1]\n",
    "y=xyz[:,n+1:2*n+1]\n",
    "z=xyz[:,2*n+1:]\n",
    "\n",
    "vxyz = np.loadtxt('velocities.dat',skiprows=2)\n",
    "vx=vxyz[:,1]\n",
    "vy=vxyz[:,2]\n",
    "vz=vxyz[:,3]\n",
    "\n",
    "mpl.rcParams['legend.fontsize'] = 10\n",
    "\n",
    "V = 5\n",
    "radius = 2\n",
    "theta = np.linspace(0,2*np.pi,101)\n",
    "x_bh = radius * np.cos(theta)\n",
    "y_bh = radius * np.sin(theta)\n",
    "\n",
    "plt.figure(figsize=(28,13))\n",
    "plt.subplot(2, 2, 1)\n",
    "for i in particles_to_plot:\n",
    "    plt.plot(x[:,i],y[:,i],'-',label='particle')\n",
    "# plt.arrow(x[0],y[0],V*vx[0],V*vy[0],color='r',width=0.01,label=\"Initial velocity\")\n",
    "plt.plot(x_bh,y_bh,'k')\n",
    "plt.fill_between(x_bh[0:50],y_bh[50:100],y_bh[0:50],color='k',label=\"BH\")\n",
    "plt.xlabel('x')\n",
    "plt.ylabel('y')\n",
    "plt.legend()\n",
    "# title='xyz = '+str((x[0],y[0],z[0]))+'\\n vxyz = '+str((vx[0],vy[0],vz[0]))\n",
    "plt.axis('square')\n",
    "#plt.title(title)\n",
    "\n",
    "r = np.sqrt(x**2+y**2+z**2)\n",
    "plt.subplot(2,2,2)\n",
    "for i in particles_to_plot:\n",
    "    plt.plot(r[:,i],label='r'+str(i))\n",
    "    plt.plot(x[:,i],label='x'+str(i))\n",
    "    plt.plot(y[:,i],label='y'+str(i))\n",
    "    plt.plot(z[:,i],label='z'+str(i))\n",
    "plt.legend()\n",
    "\n",
    "# ENERGY AND ANGULAR MOMENTUM PLOTS\n",
    "t_en_angmom = np.loadtxt('ev.dat')\n",
    "time   = t_en_angmom[:,0]\n",
    "energy = t_en_angmom[:,1]\n",
    "angmom = t_en_angmom[:,2]\n",
    "plt.subplot(2,2,3)\n",
    "# plt.plot(time,(energy-energy[0])/energy[0],label='energy')\n",
    "plt.plot(time,abs(energy),label='energy error')\n",
    "plt.xlim(xmin=time[0],xmax=time[-1])\n",
    "plt.yscale('log')\n",
    "plt.title('Energy')\n",
    "plt.legend()\n",
    "plt.subplot(2,2,4)\n",
    "plt.plot(time,abs(angmom),label='angmom error')\n",
    "plt.xlim(xmin=time[0],xmax=time[-1])\n",
    "plt.title('Angular momentum')\n",
    "plt.legend\n",
    "plt.tight_layout()\n",
    "plt.show()"
   ]
  },
  {
   "cell_type": "code",
   "execution_count": null,
   "metadata": {
    "collapsed": false
   },
   "outputs": [],
   "source": [
    "#plt.savefig('/Users/david/grtest/plots/orbit_bonnerot2016_dt=1e-4.pdf')"
   ]
  },
  {
   "cell_type": "code",
   "execution_count": null,
   "metadata": {
    "collapsed": false
   },
   "outputs": [],
   "source": [
    "# VELOCITY PLOTS\n",
    "#plt.subplot(1, 2, 2)\n",
    "plt.figure()\n",
    "plt.plot(vx,label='vx')\n",
    "plt.plot(vy,label='vy')\n",
    "plt.plot(vz,label='vz')\n",
    "plt.xlabel('[time]')\n",
    "plt.ylabel('vel')\n",
    "plt.legend()\n",
    "plt.tight_layout()\n",
    "plt.show()\n",
    "#plt.savefig('/Users/david/Desktop/velocity.pdf')"
   ]
  },
  {
   "cell_type": "code",
   "execution_count": null,
   "metadata": {
    "collapsed": true
   },
   "outputs": [],
   "source": [
    "# 3D PLOT\n",
    "fig = plt.figure()\n",
    "ax = fig.gca(projection='3d')\n",
    "phi = np.linspace(0, 2 * np.pi, 100)\n",
    "theta = np.linspace(0, np.pi, 100)\n",
    "xm = np.outer(np.cos(phi), np.sin(theta))\n",
    "ym = np.outer(np.sin(phi), np.sin(theta))\n",
    "zm = np.outer(np.ones(np.size(phi)), np.cos(theta))\n",
    "#ax.plot_surface(xm, ym, zm)\n",
    "ax.plot(x,y,z, label='parametric curve',color='b')\n",
    "ax.legend()\n",
    "plt.show()"
   ]
  },
  {
   "cell_type": "code",
   "execution_count": null,
   "metadata": {
    "collapsed": false
   },
   "outputs": [],
   "source": [
    "# ENERGY AND ANGULAR MOMENTUM PLOTS\n",
    "plt.close('all')\n",
    "t_en_angmom = np.loadtxt('fort.3')\n",
    "time   = t_en_angmom[:,0]\n",
    "energy = t_en_angmom[:,1]\n",
    "angmom = t_en_angmom[:,2]\n",
    "plt.figure()\n",
    "plt.subplot(1,2,1)\n",
    "plt.plot(time,energy,label='energy')\n",
    "plt.title('Energy')\n",
    "plt.subplot(1,2,2)\n",
    "plt.plot(time,angmom,label='angmom')\n",
    "plt.title('Angmom')\n",
    "plt.tight_layout()\n",
    "plt.show()"
   ]
  },
  {
   "cell_type": "code",
   "execution_count": null,
   "metadata": {
    "collapsed": false
   },
   "outputs": [],
   "source": [
    "776.44/(np.sqrt(42.3)*84.6*np.sqrt(676.8+176.72))"
   ]
  },
  {
   "cell_type": "code",
   "execution_count": null,
   "metadata": {
    "collapsed": false
   },
   "outputs": [],
   "source": [
    "from scipy.interpolate import interp1d\n",
    "exact=np.loadtxt('plots/clement_positions')\n",
    "approx=np.loadtxt('plots/clement_fort.1')\n",
    "x_e = exact[:,0]\n",
    "y_e = exact[:,1]\n",
    "x_a = approx[:,0]\n",
    "y_a = approx[:,1]\n",
    "plt.close('all')\n",
    "plt.figure()\n",
    "plt.plot(x_e,y_e,)\n",
    "plt.plot(x_a,y_a)\n",
    "\n",
    "L = len(x_a)\n",
    "i = np.linspace(0,L-1,L)\n",
    "last_index = int(i[abs(x_e-x_a[-1])<1e-2][-1])\n",
    "last_index\n",
    "print(x_e[last_index],x_a[-1])\n",
    "\n",
    "x_e = x_e[:last_index]\n",
    "y_e = y_e[:last_index]\n",
    "\n",
    "i_short=np.linspace(0,L,last_index)\n",
    "len(i_short)\n",
    "exact_x = interp1d(i_short,x_e)\n",
    "exact_y = interp1d(i_short,y_e)\n",
    "approx_x= interp1d(i,x_a)\n",
    "approx_y= interp1d(i,y_a)\n",
    "plt.figure()\n",
    "plt.plot(exact_x(i),exact_y(i))\n",
    "plt.plot(approx_x(i[:-2]),approx_y(i[:-2]))\n",
    "approx_x(10000)"
   ]
  },
  {
   "cell_type": "code",
   "execution_count": null,
   "metadata": {
    "collapsed": false
   },
   "outputs": [],
   "source": [
    "plt.close('all')\n",
    "# Exact sol:\n",
    "A = np.sqrt(1-2/r[0])\n",
    "drdt = ((1-2/r)*np.sqrt(A**2 - 1 + 2/r))/A\n",
    "vr = np.sqrt(vx**2+vy**2+vz**2)\n",
    "plt.close('all')\n",
    "plt.figure()\n",
    "title='Radial geodesic, starting at r='+str(r[0])+' vr='+str(vr[0])\n",
    "plt.suptitle(title)\n",
    "plt.subplot(211)\n",
    "plt.plot(r,vr,'k-',label='code')\n",
    "plt.plot(r,drdt,'c--',label='exact',lw=2,)\n",
    "plt.legend(loc='best')\n",
    "plt.xlabel('radius')\n",
    "plt.ylabel('radial velocity')\n",
    "plt.subplot(212)\n",
    "plt.plot(r,drdt-vr,'r',label='residual')\n",
    "plt.xlabel('radius')\n",
    "plt.ylabel('radial velocity')\n",
    "plt.legend(loc='best')\n",
    "plt.show()"
   ]
  },
  {
   "cell_type": "code",
   "execution_count": null,
   "metadata": {
    "collapsed": false
   },
   "outputs": [],
   "source": [
    "plt.close('all')\n",
    "plt.plot(time,r)"
   ]
  },
  {
   "cell_type": "code",
   "execution_count": null,
   "metadata": {
    "collapsed": true
   },
   "outputs": [],
   "source": []
  }
 ],
 "metadata": {
  "kernelspec": {
   "display_name": "Python 3",
   "language": "python",
   "name": "python3"
  },
  "language_info": {
   "codemirror_mode": {
    "name": "ipython",
    "version": 3
   },
   "file_extension": ".py",
   "mimetype": "text/x-python",
   "name": "python",
   "nbconvert_exporter": "python",
   "pygments_lexer": "ipython3",
   "version": "3.5.1"
  }
 },
 "nbformat": 4,
 "nbformat_minor": 0
}
